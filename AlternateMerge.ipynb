{
 "cells": [
  {
   "cell_type": "markdown",
   "id": "d72f8cba-96ef-4494-900d-6f2853b5fcfe",
   "metadata": {},
   "source": [
    "### Leetcode: Merge Strings Alternately"
   ]
  },
  {
   "cell_type": "code",
   "execution_count": 4,
   "id": "0dc21bcd-61b8-40b4-9684-82c5f4d42873",
   "metadata": {},
   "outputs": [],
   "source": [
    "def mergeAlternately(word1, word2):\n",
    "    \"\"\"\n",
    "    :type word1: str\n",
    "    :type word2: str\n",
    "    :rtype: str\n",
    "    \"\"\"\n",
    "    result = [0] * (len(word1) + len(word2)) # initiate a list of 0s\n",
    "    # two pointers:\n",
    "    counter1 = 0\n",
    "    counter2 = 1\n",
    "    for i in word1:\n",
    "        result[counter1] = i\n",
    "        counter1 += 2\n",
    "    for j in word2:\n",
    "        result[counter2] = j\n",
    "        counter2 += 2\n",
    "    return ''.join(result)"
   ]
  },
  {
   "cell_type": "code",
   "execution_count": 5,
   "id": "7f630b2d-bf4a-495f-87e5-e5d57f848f14",
   "metadata": {},
   "outputs": [
    {
     "data": {
      "text/plain": [
       "'albmcndoep'"
      ]
     },
     "execution_count": 5,
     "metadata": {},
     "output_type": "execute_result"
    }
   ],
   "source": [
    "mergeAlternately('abcde', 'lmnop')"
   ]
  },
  {
   "cell_type": "code",
   "execution_count": null,
   "id": "52f4b3a3-9fd1-429a-a7c6-654baf76deea",
   "metadata": {},
   "outputs": [],
   "source": []
  }
 ],
 "metadata": {
  "kernelspec": {
   "display_name": "Python 3 (ipykernel)",
   "language": "python",
   "name": "python3"
  },
  "language_info": {
   "codemirror_mode": {
    "name": "ipython",
    "version": 3
   },
   "file_extension": ".py",
   "mimetype": "text/x-python",
   "name": "python",
   "nbconvert_exporter": "python",
   "pygments_lexer": "ipython3",
   "version": "3.11.9"
  }
 },
 "nbformat": 4,
 "nbformat_minor": 5
}
